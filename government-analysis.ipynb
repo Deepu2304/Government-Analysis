{
 "cells": [
  {
   "cell_type": "code",
   "execution_count": null,
   "id": "3f384157",
   "metadata": {},
   "outputs": [],
   "source": [
    "import numpy as np \n",
    "import pandas as pd"
   ]
  },
  {
   "cell_type": "code",
   "execution_count": null,
   "id": "cae0cffa",
   "metadata": {},
   "outputs": [],
   "source": [
    "file_path=\"/Users/jaideepsai/Desktop/DATA-ANALYTICS/Data Source/extracted-data/Government/ipc_sections.csv\"\n",
    "data=pd.read_csv(file_path, delimiter=',')"
   ]
  },
  {
   "cell_type": "code",
   "execution_count": null,
   "id": "8140f761",
   "metadata": {},
   "outputs": [],
   "source": [
    "data.head()"
   ]
  },
  {
   "cell_type": "code",
   "execution_count": null,
   "id": "768e382f",
   "metadata": {},
   "outputs": [],
   "source": [
    "data.info()"
   ]
  },
  {
   "cell_type": "code",
   "execution_count": null,
   "id": "b8e0fce3",
   "metadata": {},
   "outputs": [],
   "source": [
    "data['Offense']"
   ]
  },
  {
   "cell_type": "code",
   "execution_count": null,
   "id": "c3b88be0",
   "metadata": {},
   "outputs": [],
   "source": [
    "data['Punishment']"
   ]
  },
  {
   "cell_type": "code",
   "execution_count": null,
   "id": "ae6840a3",
   "metadata": {},
   "outputs": [],
   "source": [
    "for j in data['Description']:\n",
    "    print(j)"
   ]
  },
  {
   "cell_type": "code",
   "execution_count": null,
   "id": "7cc026a5",
   "metadata": {},
   "outputs": [],
   "source": [
    "data[data.isna().any(axis=1)]"
   ]
  },
  {
   "cell_type": "code",
   "execution_count": null,
   "id": "8d0227c5",
   "metadata": {},
   "outputs": [],
   "source": [
    "data1 = data.dropna()"
   ]
  },
  {
   "cell_type": "code",
   "execution_count": null,
   "id": "9d0b36f3",
   "metadata": {},
   "outputs": [],
   "source": [
    "data1.loc[:, 'Imprisonment'] = data1[\"Punishment\"].apply(lambda row: 1 if \"Imprisonment\" in row else 0)\n",
    "data1.head()"
   ]
  },
  {
   "cell_type": "code",
   "execution_count": null,
   "id": "503f1865",
   "metadata": {},
   "outputs": [],
   "source": [
    "data1[\"Imprisonment\"].value_counts().plot(kind=\"pie\")"
   ]
  },
  {
   "cell_type": "code",
   "execution_count": null,
   "id": "217bc077",
   "metadata": {},
   "outputs": [],
   "source": []
  }
 ],
 "metadata": {
  "kernelspec": {
   "display_name": "Python 3 (ipykernel)",
   "language": "python",
   "name": "python3"
  },
  "language_info": {
   "codemirror_mode": {
    "name": "ipython",
    "version": 3
   },
   "file_extension": ".py",
   "mimetype": "text/x-python",
   "name": "python",
   "nbconvert_exporter": "python",
   "pygments_lexer": "ipython3",
   "version": "3.11.5"
  }
 },
 "nbformat": 4,
 "nbformat_minor": 5
}
